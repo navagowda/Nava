{
  "nbformat": 4,
  "nbformat_minor": 0,
  "metadata": {
    "colab": {
      "private_outputs": true,
      "provenance": [],
      "authorship_tag": "ABX9TyPjA/iM5jJHj9r5vO9pS13R",
      "include_colab_link": true
    },
    "kernelspec": {
      "name": "python3",
      "display_name": "Python 3"
    },
    "language_info": {
      "name": "python"
    }
  },
  "cells": [
    {
      "cell_type": "markdown",
      "metadata": {
        "id": "view-in-github",
        "colab_type": "text"
      },
      "source": [
        "<a href=\"https://colab.research.google.com/github/navagowda/Nava/blob/main/Virtual_Assistent.ipynb\" target=\"_parent\"><img src=\"https://colab.research.google.com/assets/colab-badge.svg\" alt=\"Open In Colab\"/></a>"
      ]
    },
    {
      "cell_type": "code",
      "execution_count": null,
      "metadata": {
        "id": "dCINmjKfLwTp"
      },
      "outputs": [],
      "source": [
        "import datetime\n",
        "\n",
        "def get_user_input():\n",
        "  \"\"\"Gets user input and converts it to lowercase.\"\"\"\n",
        "  return input(\"You: \").lower()\n",
        "\n",
        "def get_current_time():\n",
        "  \"\"\"Returns the current time in a user-friendly format.\"\"\"\n",
        "  now = datetime.datetime.now()\n",
        "  return f\"The current time is {now.hour}:{now.minute}.\"\n",
        "\n",
        "def set_reminder(reminder_text):\n",
        "  \"\"\"Simulates setting a reminder (for demostration purposes).\"\"\"\n",
        "  print(f\"Reminder set for: {reminder_text}\")\n",
        "\n",
        "def get_answer(question):\n",
        "  \"\"\"Provides basic ansews to common questions.\"\"\"\n",
        "  if \"how are you\" in question:\n",
        "    return \"I'm doing well,thank you!\"\n",
        "  elif \"what is your name\" in question:\n",
        "    return \"I'm a simple virtual assistant.\"\n",
        "  else:\n",
        "    return \"I'm still learning.Can yon ask me something else?\"\n",
        "def run_assistant():\n",
        "  \"\"\"Runs the virtual assistant.\"\"\"\n",
        "  print(\"Hello! How can I help you today?\")\n",
        "\n",
        "  while True:\n",
        "    user_input = get_user_input()\n",
        "\n",
        "    if \"time\" in user_input:\n",
        "      print(get_current_time())\n",
        "\n",
        "    elif \"remind me\" in user_input:\n",
        "      reminder_text = user_input.replace(\"remind me \",\"\")\n",
        "      set_reminder(reminder_text)\n",
        "    else:\n",
        "      print(get_answer(user_input))\n",
        "if __name__ == \"__main__\":\n",
        "  run_assistant()"
      ]
    }
  ]
}