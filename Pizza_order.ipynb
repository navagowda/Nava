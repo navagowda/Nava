{
  "nbformat": 4,
  "nbformat_minor": 0,
  "metadata": {
    "colab": {
      "provenance": [],
      "authorship_tag": "ABX9TyP7GZm3iaV+eFPl5AOiwaFW",
      "include_colab_link": true
    },
    "kernelspec": {
      "name": "python3",
      "display_name": "Python 3"
    },
    "language_info": {
      "name": "python"
    }
  },
  "cells": [
    {
      "cell_type": "markdown",
      "metadata": {
        "id": "view-in-github",
        "colab_type": "text"
      },
      "source": [
        "<a href=\"https://colab.research.google.com/github/navagowda/Nava/blob/main/Pizza_order.ipynb\" target=\"_parent\"><img src=\"https://colab.research.google.com/assets/colab-badge.svg\" alt=\"Open In Colab\"/></a>"
      ]
    },
    {
      "cell_type": "code",
      "execution_count": null,
      "metadata": {
        "colab": {
          "base_uri": "https://localhost:8080/"
        },
        "id": "h0VhUxiEfBzn",
        "outputId": "1fa8dbe1-0d78-48ec-c9fd-2efd090ccdb0"
      },
      "outputs": [
        {
          "output_type": "stream",
          "name": "stdout",
          "text": [
            "welcome to the pizza palace!\n",
            "Menu:\n",
            "1.Margherita\n",
            "2.Pepperoni\n",
            "3.veggi\n",
            "enter your choice:3\n",
            "You selected:veggie\n",
            "order confrimed!\n"
          ]
        }
      ],
      "source": [
        "in options:\n",
        "      return user_inputimport random\n",
        "def get_user_choice(options):\n",
        "  \"\"\"\n",
        "  Gets user input and validates it against provided options.\n",
        "  Args:\n",
        "    options:Alist of valid options.\n",
        "  Returns:\n",
        "    The user' valid choice.\n",
        "  \"\"\"\n",
        "  while True:\n",
        "    user_input = input(\"enter your choice:\").lower()\n",
        "    if user_input\n",
        "    else:\n",
        "      print(f\"invalid choice. pelase select from:{','.join(options)}\")\n",
        "def order_pizza():\n",
        "  \"\"\"\n",
        "  Handles the pizza ordering process.\n",
        "  \"\"\"\n",
        "  print(\"welcome to the pizza palace!\")\n",
        "  print(\"Menu:\")\n",
        "  print(\"1.Margherita\")\n",
        "  print(\"2.Pepperoni\")\n",
        "  print(\"3.veggi\")\n",
        "\n",
        "  pizza_choices = [\"1\",\"2\",\"3\"]\n",
        "  pizza_choice = get_user_choice(pizza_choices)\n",
        "\n",
        "  if pizza_choice ==\"1\":\n",
        "    pizza = \"Margherita\"\n",
        "  elif pizza_choice ==\"2\":\n",
        "    pizza = \"pepperoni\"\n",
        "  else:\n",
        "    pizza = \"veggie\"\n",
        "\n",
        "  print(f\"You selected:{pizza}\")\n",
        "  print(\"order confrimed!\")\n",
        "if __name__==\"__main__\":\n",
        "  order_pizza()"
      ]
    }
  ]
}